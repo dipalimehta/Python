{
 "cells": [
  {
   "cell_type": "code",
   "execution_count": 1,
   "metadata": {},
   "outputs": [
    {
     "name": "stdout",
     "output_type": "stream",
     "text": [
      "------------------------------------------------------------\n",
      "     Welcome to Mad Libs Generator      \n",
      "------------------------------------------------------------\n",
      "Animal:Tiger\n",
      "Country:India\n",
      "Plural noun:gold\n",
      "A food:chicken\n",
      "Type of screen device:monitor\n",
      "Noun:tree\n",
      "Verb:run away\n",
      "Verb:escape\n",
      "Adjective:useless\n",
      "\n",
      "The majestic Tiger has roamed the forests of India for thousands of years.\n",
      "          Today,she wanders in search of gold.Shemust find food to survive.While \n",
      "          hunting for chicken,she found a/an monitor hidden behind a tree.\n",
      "          She has never seen anything like this before. What will she do? With the device in\n",
      "          her teeth,she tries to escape,but nothing happens. She takes it back to her family.\n",
      "          When her family sees it,they quickly escape.Soon,the device becomes useless ,\n",
      "          and the family decides to put it back where the found it\n"
     ]
    }
   ],
   "source": [
    "print('-'*60)\n",
    "print(\"Welcome to Mad Libs Generator\".center(40))\n",
    "print('-'*60)\n",
    "\n",
    "animal=input(\"Animal:\")\n",
    "country=input(\"Country:\")\n",
    "plural_noun=input(\"Plural noun:\")\n",
    "afood=input(\"A food:\")\n",
    "type_of_screen_device=input(\"Type of screen device:\")\n",
    "noun=input(\"Noun:\")\n",
    "verb=input(\"Verb:\")\n",
    "verb=input(\"Verb:\")\n",
    "adjective=input(\"Adjective:\")\n",
    "print('')\n",
    "\n",
    "print(f'''The majestic {animal} has roamed the forests of {country} for thousands of years.\n",
    "          Today,she wanders in search of {plural_noun}.Shemust find food to survive.While \n",
    "          hunting for {afood},she found a/an {type_of_screen_device} hidden behind a {noun}.\n",
    "          She has never seen anything like this before. What will she do? With the device in\n",
    "          her teeth,she tries to {verb},but nothing happens. She takes it back to her family.\n",
    "          When her family sees it,they quickly {verb}.Soon,the device becomes {adjective} ,\n",
    "          and the family decides to put it back where the found it''')"
   ]
  },
  {
   "cell_type": "code",
   "execution_count": null,
   "metadata": {},
   "outputs": [],
   "source": []
  }
 ],
 "metadata": {
  "kernelspec": {
   "display_name": "Python 3",
   "language": "python",
   "name": "python3"
  },
  "language_info": {
   "codemirror_mode": {
    "name": "ipython",
    "version": 3
   },
   "file_extension": ".py",
   "mimetype": "text/x-python",
   "name": "python",
   "nbconvert_exporter": "python",
   "pygments_lexer": "ipython3",
   "version": "3.7.6"
  }
 },
 "nbformat": 4,
 "nbformat_minor": 4
}
