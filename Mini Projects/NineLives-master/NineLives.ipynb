{
 "cells": [
  {
   "cell_type": "code",
   "execution_count": null,
   "metadata": {},
   "outputs": [],
   "source": [
    "import random\n",
    "print('-'*60)\n",
    "print(\"Welcom to Nine Lives Game\".center(60))\n",
    "print('-'*60)\n",
    "words = [\"hello\",\"pizza\",\"apple\",\"teeth\",\"fairy\"]\n",
    "secret_word = random.choice(words)\n",
    "clue = list(\"?????\")\n",
    "guessed_word_correctly= False\n",
    "lives = 9\n",
    "heart_symbol = '\\u2764'\n",
    "\n",
    "def update_clue(guessed_letter,secret_word,clue):\n",
    "    index=0\n",
    "    while index<len(secret_word):\n",
    "        if guessed_letter == secret_word[index]:\n",
    "            clue[index] = guessed_letter\n",
    "        index +=1\n",
    "while lives>0:\n",
    "    print(clue)\n",
    "    print(\"lives left:\",heart_symbol*lives)\n",
    "    guess = input(\"Guess a letter or whole word\")\n",
    "    if guess==secret_word:\n",
    "        guessed_word_correctly = True\n",
    "        break\n",
    "    elif guess in secret_word:\n",
    "        update_clue(guess,secret_word,clue)\n",
    "    else:\n",
    "        print(\"Incorrect guess, you lose a life\")\n",
    "        lives -= 1\n",
    "if guessed_word_correctly==True:\n",
    "    print(\"You won the game, Secret word was:\",secret_word)\n",
    "else:\n",
    "    print(\"You lost the game, Secret word was:\",secret_word)"
   ]
  },
  {
   "cell_type": "code",
   "execution_count": null,
   "metadata": {},
   "outputs": [],
   "source": []
  }
 ],
 "metadata": {
  "kernelspec": {
   "display_name": "Python 3",
   "language": "python",
   "name": "python3"
  },
  "language_info": {
   "codemirror_mode": {
    "name": "ipython",
    "version": 3
   },
   "file_extension": ".py",
   "mimetype": "text/x-python",
   "name": "python",
   "nbconvert_exporter": "python",
   "pygments_lexer": "ipython3",
   "version": "3.7.6"
  }
 },
 "nbformat": 4,
 "nbformat_minor": 4
}
